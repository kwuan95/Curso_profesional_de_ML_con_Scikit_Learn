{
  "nbformat": 4,
  "nbformat_minor": 0,
  "metadata": {
    "colab": {
      "provenance": [],
      "authorship_tag": "ABX9TyOEHnDHqbIIWrkO2OHMojIk",
      "include_colab_link": true
    },
    "kernelspec": {
      "name": "python3",
      "display_name": "Python 3"
    },
    "language_info": {
      "name": "python"
    }
  },
  "cells": [
    {
      "cell_type": "markdown",
      "metadata": {
        "id": "view-in-github",
        "colab_type": "text"
      },
      "source": [
        "<a href=\"https://colab.research.google.com/github/kwuan95/Curso_profesional_de_ML_con_Scikit_Learn/blob/master/Breast_Cancer_Wisconsin_by_Juan_Robayo.ipynb\" target=\"_parent\"><img src=\"https://colab.research.google.com/assets/colab-badge.svg\" alt=\"Open In Colab\"/></a>"
      ]
    },
    {
      "cell_type": "markdown",
      "source": [
        "# Proyecto para curso"
      ],
      "metadata": {
        "id": "oxhpOoBzV7zK"
      }
    },
    {
      "cell_type": "markdown",
      "source": [
        "Data set utilizado\n",
        "\n",
        "https://www.kaggle.com/datasets/uciml/breast-cancer-"
      ],
      "metadata": {
        "id": "pSFnDwxQWVMF"
      }
    },
    {
      "cell_type": "markdown",
      "source": [
        "## Importando Librerias"
      ],
      "metadata": {
        "id": "-2Pv2yX3WLe2"
      }
    },
    {
      "cell_type": "code",
      "execution_count": null,
      "metadata": {
        "id": "4taDil3SVmFF"
      },
      "outputs": [],
      "source": [
        "# Importando las bibliotecas necesarias\n",
        "import pandas as pd\n",
        "from sklearn.preprocessing import LabelEncoder\n",
        "from sklearn.ensemble import RandomForestClassifier\n",
        "from sklearn.model_selection import train_test_split\n",
        "from sklearn.linear_model import LogisticRegression\n",
        "from sklearn.metrics import classification_report, confusion_matrix, accuracy_score"
      ]
    },
    {
      "cell_type": "markdown",
      "source": [
        "## Cargando los datos"
      ],
      "metadata": {
        "id": "RNyQuZfBWOqN"
      }
    },
    {
      "cell_type": "code",
      "source": [
        "# Cargando el dataset\n",
        "file_path = '/content/Breast Cancer Wisconsin.csv'  # Asegúrate de tener el camino correcto del archivo\n",
        "data = pd.read_csv(file_path)"
      ],
      "metadata": {
        "id": "qJGF5juTWSNM"
      },
      "execution_count": null,
      "outputs": []
    },
    {
      "cell_type": "markdown",
      "source": [
        "## Limpieza y preparacion de los datos"
      ],
      "metadata": {
        "id": "qNnZkl0gWpp1"
      }
    },
    {
      "cell_type": "code",
      "source": [
        "# Eliminando columnas innecesarias: 'Unnamed: 32' y 'id'\n",
        "data_cleaned = data.drop(['Unnamed: 32', 'id'], axis=1)\n",
        "\n",
        "# Transformando la columna 'diagnosis' en numérica\n",
        "label_encoder = LabelEncoder()\n",
        "data_cleaned['diagnosis'] = label_encoder.fit_transform(data_cleaned['diagnosis'])\n",
        "\n",
        "# Separando la variable objetivo y las características\n",
        "X = data_cleaned.drop('diagnosis', axis=1)\n",
        "y = data_cleaned['diagnosis']"
      ],
      "metadata": {
        "id": "aYCCTjbCWxLF"
      },
      "execution_count": null,
      "outputs": []
    },
    {
      "cell_type": "markdown",
      "source": [
        "## Seleccion de features relevantes para el modelo"
      ],
      "metadata": {
        "id": "yHMkymvnW1At"
      }
    },
    {
      "cell_type": "code",
      "source": [
        "# Utilizando un clasificador de bosque aleatorio para la importancia de las características\n",
        "forest = RandomForestClassifier(n_estimators=250, random_state=42)\n",
        "forest.fit(X, y)\n",
        "\n",
        "# Obteniendo la importancia de cada característica\n",
        "importances = forest.feature_importances_\n",
        "\n",
        "# Creando un DataFrame para visualizar mejor estas importancias\n",
        "features = pd.DataFrame({'Feature': X.columns, 'Importance': importances})\n",
        "features.sort_values(by='Importance', ascending=False, inplace=True)"
      ],
      "metadata": {
        "id": "DQ_fOvt4W0q1"
      },
      "execution_count": null,
      "outputs": []
    },
    {
      "cell_type": "code",
      "source": [
        "# Mostrando las 10 características más importantes\n",
        "print(features.head(10))"
      ],
      "metadata": {
        "colab": {
          "base_uri": "https://localhost:8080/"
        },
        "id": "ZbE-5l31XEs0",
        "outputId": "d7168983-af59-4371-f1db-4988a3e5cbb7"
      },
      "execution_count": null,
      "outputs": [
        {
          "output_type": "stream",
          "name": "stdout",
          "text": [
            "                 Feature  Importance\n",
            "22       perimeter_worst    0.150890\n",
            "23            area_worst    0.127313\n",
            "27  concave points_worst    0.116680\n",
            "7    concave points_mean    0.094740\n",
            "20          radius_worst    0.077979\n",
            "2         perimeter_mean    0.055485\n",
            "3              area_mean    0.051836\n",
            "6         concavity_mean    0.050482\n",
            "0            radius_mean    0.041464\n",
            "26       concavity_worst    0.038922\n"
          ]
        }
      ]
    },
    {
      "cell_type": "code",
      "source": [
        "print(features.head(10)['Importance'].sum())"
      ],
      "metadata": {
        "colab": {
          "base_uri": "https://localhost:8080/"
        },
        "id": "Vm-5lEFUX2Cg",
        "outputId": "447d5916-3090-4254-8551-b9675a26d036"
      },
      "execution_count": null,
      "outputs": [
        {
          "output_type": "stream",
          "name": "stdout",
          "text": [
            "0.8057916192739155\n"
          ]
        }
      ]
    },
    {
      "cell_type": "markdown",
      "source": [
        "## Creando el modelo"
      ],
      "metadata": {
        "id": "nDGuJGFMXIo8"
      }
    },
    {
      "cell_type": "code",
      "source": [
        "# Dividiendo el dataset en conjuntos de entrenamiento y prueba\n",
        "X_train, X_test, y_train, y_test = train_test_split(X, y, test_size=0.3, random_state=42)\n",
        "\n",
        "# Construyendo el modelo de regresión logística\n",
        "logreg = LogisticRegression(max_iter=10000, random_state=42)\n",
        "\n",
        "# Entrenando el modelo\n",
        "logreg.fit(X_train, y_train)\n",
        "\n",
        "# Realizando predicciones en el conjunto de prueba\n",
        "y_pred = logreg.predict(X_test)"
      ],
      "metadata": {
        "id": "PTUPTky0XK8r"
      },
      "execution_count": null,
      "outputs": []
    },
    {
      "cell_type": "markdown",
      "source": [
        "## Evaluando el modelo"
      ],
      "metadata": {
        "id": "dTSblsAaXO3c"
      }
    },
    {
      "cell_type": "code",
      "source": [
        "# Evaluando el modelo\n",
        "accuracy = accuracy_score(y_test, y_pred)\n",
        "conf_matrix = confusion_matrix(y_test, y_pred)\n",
        "class_report = classification_report(y_test, y_pred)\n",
        "\n",
        "# Mostrando los resultados de la evaluación\n",
        "print(\"Accuracy:\", accuracy)\n",
        "print(\"Confusion Matrix:\\n\", conf_matrix)\n",
        "print(\"Classification Report:\\n\", class_report)"
      ],
      "metadata": {
        "colab": {
          "base_uri": "https://localhost:8080/"
        },
        "id": "XB1Bv71zXOj8",
        "outputId": "bf7bcbdc-e7a4-4375-bcf0-1c088ca9d7e9"
      },
      "execution_count": null,
      "outputs": [
        {
          "output_type": "stream",
          "name": "stdout",
          "text": [
            "Accuracy: 0.9766081871345029\n",
            "Confusion Matrix:\n",
            " [[106   2]\n",
            " [  2  61]]\n",
            "Classification Report:\n",
            "               precision    recall  f1-score   support\n",
            "\n",
            "           0       0.98      0.98      0.98       108\n",
            "           1       0.97      0.97      0.97        63\n",
            "\n",
            "    accuracy                           0.98       171\n",
            "   macro avg       0.97      0.97      0.97       171\n",
            "weighted avg       0.98      0.98      0.98       171\n",
            "\n"
          ]
        }
      ]
    },
    {
      "cell_type": "markdown",
      "source": [
        "Si llegaste hasta aca quiero que sepas todo esto se hizo en menos de 20 min usando el GPTs (Data Analyst) de OpenAI, tengo miedo porque es el 30/11/2023, apenas un año desde el lanzamiento de ChatGPT"
      ],
      "metadata": {
        "id": "p47nZa7LYefB"
      }
    }
  ]
}